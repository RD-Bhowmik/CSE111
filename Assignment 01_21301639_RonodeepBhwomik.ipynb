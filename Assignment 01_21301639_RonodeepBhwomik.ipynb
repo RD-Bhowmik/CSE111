{
 "cells": [
  {
   "cell_type": "code",
   "execution_count": 13,
   "id": "b7ea56c8",
   "metadata": {},
   "outputs": [
    {
     "name": "stdout",
     "output_type": "stream",
     "text": [
      "Enter String: ApplE\n",
      "apple\n"
     ]
    }
   ],
   "source": [
    "                                         #String\n",
    "#Problem-1\n",
    "string=input(\"Enter String: \")\n",
    "lower=0\n",
    "upper=0\n",
    "for i in range (0,len(string)):   \n",
    "    if(string[i]>='a' and string[i]<='z'):\n",
    "        lower=lower+1\n",
    "    else:\n",
    "        upper=upper+1\n",
    "z=\"\"\n",
    "if(upper>lower):\n",
    "    for i in range (0,len(string)):\n",
    "        if string[i]>='a' and string[i]<='z' :\n",
    "            z+=chr(ord(string[i])-32)\n",
    "        else:\n",
    "            z+=string[i]\n",
    "else:\n",
    "    for i in range (0,len(string)):\n",
    "        if string[i]>='A' and string[i]<='Z' :\n",
    "            z+=chr(ord(string[i])+32)\n",
    "        else:\n",
    "            z+=string[i]\n",
    "print(z)\n",
    "  "
   ]
  },
  {
   "cell_type": "code",
   "execution_count": 16,
   "id": "2b5ccb89",
   "metadata": {},
   "outputs": [
    {
     "name": "stdout",
     "output_type": "stream",
     "text": [
      "Enter the string: hello\n",
      "WORD\n"
     ]
    }
   ],
   "source": [
    "#Problem-2 \n",
    "string=input(\"Enter the string: \")\n",
    "number=False\n",
    "char=False\n",
    "for i in range(len(string)):\n",
    "    if(string[i]>='0' and string[i]<='9'):\n",
    "        number=True\n",
    "    else:\n",
    "        char=True   \n",
    "if(number==True and char==True):\n",
    "    print(\"MIXED\")\n",
    "elif(number==True):\n",
    "    print(\"NUMBER\")\n",
    "else:\n",
    "    print(\"WORD\")"
   ]
  },
  {
   "cell_type": "code",
   "execution_count": 21,
   "id": "d8060b41",
   "metadata": {},
   "outputs": [
    {
     "name": "stdout",
     "output_type": "stream",
     "text": [
      "Enter the string: coDIng\n",
      "BLANK\n"
     ]
    }
   ],
   "source": [
    "#Problem-3 \n",
    "string = input(\"Enter the string: \")\n",
    "counter=0\n",
    "for element in range(0, len(string)):\n",
    "    if(string[element].isupper()):\n",
    "        counter= counter+1\n",
    "        if(counter==1):\n",
    "            i=element\n",
    "            continue\n",
    "        if(counter==2):\n",
    "            j=element\n",
    "            diff = j-i\n",
    "        if(diff==1):\n",
    "            print(\"BLANK\")\n",
    "        break\n",
    "    if(counter==1):\n",
    "        print(string[element],end='')\n",
    "if(counter==0):\n",
    "    print(\"BLANK\")"
   ]
  },
  {
   "cell_type": "code",
   "execution_count": 9,
   "id": "46a3b3d9",
   "metadata": {},
   "outputs": [
    {
     "name": "stdout",
     "output_type": "stream",
     "text": [
      "Enter the Sentence: This book is good too!\n",
      "This book is good too!\n"
     ]
    }
   ],
   "source": [
    "#problem-4\n",
    "def appear(word):\n",
    "    Strnot = word.find('too')\n",
    "    Strpoor = word.find('good')\n",
    "                                                       #checking if both are continuous\n",
    "    if Strpoor > Strnot and Strpoor > 0 and Strnot > 0:\n",
    "                                                                 #replacing with'excellent'\n",
    "        word = word.replace(word[Strnot:Strpoor+4], 'excellent')\n",
    "        return word\n",
    "    else:\n",
    "        return word\n",
    "word=input('Enter the Sentence: ')\n",
    "print(appear(word))"
   ]
  },
  {
   "cell_type": "code",
   "execution_count": 23,
   "id": "3816b2c6",
   "metadata": {},
   "outputs": [
    {
     "name": "stdout",
     "output_type": "stream",
     "text": [
      "Enter the Strings: dean,tom\n",
      "Nothing in Common\n"
     ]
    }
   ],
   "source": [
    "#Problem-5\n",
    "str_1=input(\"Enter the Strings: \")\n",
    "str=str_1.split(',')\n",
    "for i in str:\n",
    "    i.strip()\n",
    "str[0]=str[0].lower()\n",
    "str[1]=str[1].lower()\n",
    "result=\"\"\n",
    "for i in str[0]:\n",
    "    if i in str[1]:\n",
    "        result+=i\n",
    "for i in str[1]:\n",
    "    if i in str[0]:\n",
    "        result+=i\n",
    "if result!=\"\":\n",
    "    print(result)\n",
    "else:\n",
    "    print(\"Nothing in Common\")\n",
    "    "
   ]
  },
  {
   "cell_type": "code",
   "execution_count": 32,
   "id": "1f467134",
   "metadata": {},
   "outputs": [
    {
     "name": "stdout",
     "output_type": "stream",
     "text": [
      "Enter the password:ohmybracu\n",
      "UpperCase missing\n",
      "Digit missing\n",
      "Special Charecter missing\n"
     ]
    }
   ],
   "source": [
    "#Problem-6\n",
    "pass_1=input(\"Enter the password:\")\n",
    "lower=0\n",
    "for i in pass_1:\n",
    "    if i.islower():\n",
    "        lower=1\n",
    "if lower==0:\n",
    "    print(\"LowerCase missing\")\n",
    "upper=0\n",
    "for i in pass_1:\n",
    "    if i.isupper():\n",
    "        upper=1\n",
    "if upper==0:\n",
    "    print(\"UpperCase missing\")\n",
    "digit=0\n",
    "for i in pass_1:\n",
    "    if i.isdigit():\n",
    "        digit=1\n",
    "if digit==0:\n",
    "    print(\"Digit missing\")\n",
    "special_char=0\n",
    "spec=\"[@_!#$%^&*()<>?/\\|}{~:]')\"\n",
    "for i in pass_1:\n",
    "    if i in spec:\n",
    "        special_char=1\n",
    "if special_char==0:\n",
    "    print(\"Special Charecter missing\")\n",
    "if special_char!=0 and digit!=0 and upper!=0 and lower==1:\n",
    "    print(\"OK\")"
   ]
  },
  {
   "cell_type": "code",
   "execution_count": 1,
   "id": "4c19b656",
   "metadata": {},
   "outputs": [
    {
     "name": "stdout",
     "output_type": "stream",
     "text": [
      "Enter the numbers: 10\n",
      "Enter the numbers: 20\n",
      "Enter the numbers: 20\n",
      "Enter the numbers: 30\n",
      "Enter the numbers: 10\n",
      "Enter the numbers: 50\n",
      "Enter the numbers: 90\n",
      "Enter the numbers: STOP\n",
      "10 - 2 times\n",
      "20 - 2 times\n",
      "30 - 1 times\n",
      "50 - 1 times\n",
      "90 - 1 times\n",
      "\n"
     ]
    }
   ],
   "source": [
    "                                      #List\n",
    "#Problem-1\n",
    "frequ = {}\n",
    "num = ''\n",
    "while(True):\n",
    "    num = input(\"Enter the numbers: \")\n",
    "    if num == 'STOP':\n",
    "        break\n",
    "    if num in frequ:\n",
    "        frequ[ num] += 1\n",
    "    else:\n",
    "        frequ[num] = 1\n",
    "for key, value in frequ.items():\n",
    "    print(key, '-', value,'times')\n",
    "print()"
   ]
  },
  {
   "cell_type": "code",
   "execution_count": 3,
   "id": "9e7ed05f",
   "metadata": {},
   "outputs": [
    {
     "name": "stdout",
     "output_type": "stream",
     "text": [
      "4\n",
      "Enter the numbers: 1 2 3\n",
      "Enter the numbers: 4 5 6\n",
      "Enter the numbers: 10 11 12 \n",
      "Enter the numbers: 7 8 9\n",
      "33\n",
      "['10', '11', '12']\n"
     ]
    }
   ],
   "source": [
    "#Problem-2\n",
    "def maxsum(list1):\n",
    "    index = 0\n",
    "    max_index = 0\n",
    "    max_sum = 0\n",
    "    for list in list1:\n",
    "        sum_list = 0\n",
    "        for x in list:\n",
    "            sum_list += int(x)\n",
    "        if sum_list > max_sum:\n",
    "            max_sum = sum_list\n",
    "            max_index = index\n",
    "        index += 1\n",
    "    print(max_sum)\n",
    "    print(str(list1[max_index]))  \n",
    "\n",
    "n=int(input())\n",
    "list1= []\n",
    "for i in range(n):\n",
    "    num=input(\"Enter the numbers: \")\n",
    "    list1.append(num.split())\n",
    "maxsum(list1)"
   ]
  },
  {
   "cell_type": "code",
   "execution_count": 5,
   "id": "1533129c",
   "metadata": {},
   "outputs": [
    {
     "name": "stdout",
     "output_type": "stream",
     "text": [
      "Enter the list items : 2 3 6\n",
      "Enter the list items : 3 4 5\n",
      "Cross multiplication list: [6, 8, 10, 9, 12, 15, 18, 24, 30]\n"
     ]
    }
   ],
   "source": [
    "#Problem-3\n",
    "lst1 = []\n",
    "lst2 = []\n",
    "lst1 = [int(item) for item in input(\"Enter the list items : \").split()]\n",
    "lst2 = [int(item) for item in input(\"Enter the list items : \").split()]\n",
    "result = [i * j for j in lst1 for i in lst2]\n",
    "print (\"Cross multiplication list: \" + str(result))"
   ]
  },
  {
   "cell_type": "code",
   "execution_count": 1,
   "id": "0f62b5e4",
   "metadata": {},
   "outputs": [
    {
     "name": "stdout",
     "output_type": "stream",
     "text": [
      "Enter the numbers: 1 4 2 3\n",
      "UB Jumper\n",
      "Enter the number: 2 1 4 6 10\n",
      "UB Jumper\n",
      "Enter the number: 1 4 2 -1 6 \n",
      "Not UB Jumper\n",
      "Enter the number: STOP\n"
     ]
    }
   ],
   "source": [
    "#Problem-4\n",
    "user= input(\"Enter the numbers: \" )\n",
    "while(user!= \"STOP\"):\n",
    "    num = list(map(int, user.split()))\n",
    "    diff = [abs(num[i]-num[i+1]) for i in range(len(num) - 1)]\n",
    "    \n",
    "    lst = []\n",
    "    for i in range(1, len(num)):\n",
    "        lst.append(i)\n",
    "        \n",
    "    counter= 0\n",
    "    for ele in diff:\n",
    "        if ele in lst:\n",
    "            counter+= 1\n",
    "            \n",
    "    if counter== len(lst):\n",
    "        print(\"UB Jumper\")\n",
    "        user = input(\"Enter the number: \")\n",
    "    else:\n",
    "        print(\"Not UB Jumper\")\n",
    "        user = input(\"Enter the number: \")"
   ]
  },
  {
   "cell_type": "code",
   "execution_count": 5,
   "id": "f7a9996b",
   "metadata": {},
   "outputs": [
    {
     "name": "stdout",
     "output_type": "stream",
     "text": [
      "Enter the string: Bracu1234\n",
      "acruB1324\n"
     ]
    }
   ],
   "source": [
    "#Problem-5\n",
    "string= input(\"Enter the string: \") \n",
    "def even(i): \n",
    "    if i.isdigit():\n",
    "        if int(i)%2 ==0: \n",
    "            return True\n",
    "        else:\n",
    "            return False\n",
    "    else:\n",
    "        return True\n",
    "print (*sorted(string,key = lambda i:(i.isdigit(),even(i),i.isupper(),i)),sep='') "
   ]
  },
  {
   "cell_type": "code",
   "execution_count": 1,
   "id": "d1f1cb17",
   "metadata": {},
   "outputs": [
    {
     "name": "stdout",
     "output_type": "stream",
     "text": [
      "5 2\n",
      "0 4 5 1 0\n",
      "1\n"
     ]
    }
   ],
   "source": [
    "#Problem-6\n",
    "def maxTeams(n,k,p):\n",
    "    counter=0\n",
    "    for i in p:\n",
    "        i=i+k\n",
    "        if i<=5:\n",
    "            counter+=1\n",
    "    return counter//3\n",
    "def main():\n",
    "    n,k=input().split()\n",
    "    participate=input().split()\n",
    "    n,k=int(n),int(k)\n",
    "    for i in range(len(participate)):\n",
    "        participate[i] = int(participate[i])\n",
    "    print(maxTeams(n,k,participate))  \n",
    "if __name__ == \"__main__\":\n",
    "    main()"
   ]
  },
  {
   "cell_type": "code",
   "execution_count": 2,
   "id": "e385fc09",
   "metadata": {},
   "outputs": [
    {
     "name": "stdout",
     "output_type": "stream",
     "text": [
      "a: 100, b: 100, c: 200, d: 300\n",
      "a: 300, b: 200, d: 400, e: 200\n",
      "{'a': 400, 'b': 300, 'c': 200, 'd': 700, 'e': 200}\n",
      "Values: (200, 300, 400, 700)\n"
     ]
    }
   ],
   "source": [
    "                                #Dictionary & Tuple \n",
    "#Problem-1\n",
    "def convert_to_dict(user):\n",
    "    dict1 = {}\n",
    "    for x in user.split(','):      \n",
    "        key, val = x.split(':')       \n",
    "        dict1[key.strip()] = int(val)   \n",
    "    return dict1                        \n",
    "def main(): \n",
    "    user_1 = input()                   \n",
    "    user_2 = input()\n",
    "    dict_1 = convert_to_dict(user_1)    \n",
    "    dict_2 = convert_to_dict(user_2)   \n",
    "    dict_3 = dict(dict_1)                \n",
    "    for key in dict_2.keys():            \n",
    "        if key not in dict_3:  \n",
    "            dict_3[key] = dict_2[key]   \n",
    "        else:                        \n",
    "            dict_3[key] += dict_2[key]\n",
    "    print(dict_3)                        \n",
    "    tuple_1= set(dict_3.values())           \n",
    "    tuple_1= tuple(sorted(tuple_1))              \n",
    "    print(\"Values:\", tuple_1)                   \n",
    "main()"
   ]
  },
  {
   "cell_type": "code",
   "execution_count": 3,
   "id": "c73680d4",
   "metadata": {},
   "outputs": [
    {
     "name": "stdout",
     "output_type": "stream",
     "text": [
      "Enter the numbers: 10\n",
      "Enter the numbers: 20\n",
      "Enter the numbers: 20\n",
      "Enter the numbers: 30\n",
      "Enter the numbers: 10\n",
      "Enter the numbers: 50\n",
      "Enter the numbers: 90\n",
      "Enter the numbers: STOP\n",
      "10 - 2 times\n",
      "20 - 2 times\n",
      "30 - 1 times\n",
      "50 - 1 times\n",
      "90 - 1 times\n",
      "\n"
     ]
    }
   ],
   "source": [
    "#Problem-2\n",
    "frequ = {}\n",
    "num = ''\n",
    "while(True):\n",
    "    num = input(\"Enter the numbers: \")\n",
    "    if num == 'STOP':\n",
    "        break\n",
    "    if num in frequ:\n",
    "        frequ[ num] += 1\n",
    "    else:\n",
    "        frequ[num] = 1\n",
    "for key, value in frequ.items():\n",
    "    print(key, '-', value,'times')\n",
    "print()"
   ]
  },
  {
   "cell_type": "code",
   "execution_count": 4,
   "id": "cdac89fc",
   "metadata": {},
   "outputs": [
    {
     "name": "stdout",
     "output_type": "stream",
     "text": [
      "Enter how many elements in the dictionay: 3\n",
      "Enter the key :key1\n",
      "Enter the values :value1\n",
      "Enter the key :key2\n",
      "Enter the values :value2\n",
      "Enter the key :key3\n",
      "Enter the values :value3\n",
      "Inverted Dictionay=  {'value1': ['key1'], 'value2': ['key2'], 'value3': ['key3']}\n"
     ]
    }
   ],
   "source": [
    "#Problem-3\n",
    "num=int(input(\"Enter how many elements in the dictionay: \"))\n",
    "dict_1 = {}\n",
    "for i in range (num):\n",
    "    key=input(\"Enter the key :\")\n",
    "    value=input(\"Enter the values :\")\n",
    "    dict_1.update({key: value})\n",
    "invert_dict_1 = {}\n",
    "for key, value in dict_1.items():\n",
    "    invert_dict_1.setdefault(value, list()).append(key)\n",
    "print(\"Inverted Dictionay= \",invert_dict_1)"
   ]
  },
  {
   "cell_type": "code",
   "execution_count": 5,
   "id": "964557ee",
   "metadata": {},
   "outputs": [
    {
     "name": "stdout",
     "output_type": "stream",
     "text": [
      "Enter the first string: evil\n",
      "Enter the secound string: live\n",
      "Those strings are anagrams\n"
     ]
    }
   ],
   "source": [
    "#Problem-4\n",
    "str_1=input(\"Enter the first string: \")\n",
    "str_2=input(\"Enter the secound string: \")\n",
    "dict_1={}\n",
    "answer=True\n",
    "for i in str_1: \n",
    "    if i in dict_1.keys(): \n",
    "        dict_1[i]=dict_1[i]+1\n",
    "    else: \n",
    "        dict_1[i]=1;\n",
    "for i in str_2: \n",
    "    if i in dict_1.keys():  \n",
    "        dict_1[i]=dict_1[i]-1\n",
    "    else:\n",
    "        dict_1[i]=1;\n",
    "for key in dict_1.keys(): \n",
    "    if dict_1[key]!=0: \n",
    "        answer=False \n",
    "if answer:\n",
    "    print(\"Those strings are anagrams\")\n",
    "else:\n",
    "    print(\"Those strings are not anagrams\")"
   ]
  },
  {
   "cell_type": "code",
   "execution_count": 6,
   "id": "9de18d90",
   "metadata": {},
   "outputs": [
    {
     "name": "stdout",
     "output_type": "stream",
     "text": [
      "Hello, World!\n",
      "4433555555666110966677755531111"
     ]
    }
   ],
   "source": [
    "#Problem-5\n",
    "def values(value):\n",
    "    dict_1 = {1:\".,?!:\", 2:\"ABC\", 3:\"DEF\", 4:\"GHI\",5:\"JKL\", 6:\"MNO\", 7:\"PQRS\", 8:\"TUV\", 9:\"WXYZ\", 0:\" \"}\n",
    "    for i in range(1,len(dict_1)):\n",
    "        if(value== \" \"):\n",
    "            return 0\n",
    "        elif(value in dict_1.get(i)):\n",
    "            repeat = dict_1.get(i)\n",
    "            return str(i)*(repeat.index(value)+1)\n",
    "data = input()\n",
    "for value in data:\n",
    "    print(values(value.upper()),end=\"\")"
   ]
  },
  {
   "cell_type": "code",
   "execution_count": null,
   "id": "7043d197",
   "metadata": {},
   "outputs": [],
   "source": []
  }
 ],
 "metadata": {
  "kernelspec": {
   "display_name": "Python 3",
   "language": "python",
   "name": "python3"
  },
  "language_info": {
   "codemirror_mode": {
    "name": "ipython",
    "version": 3
   },
   "file_extension": ".py",
   "mimetype": "text/x-python",
   "name": "python",
   "nbconvert_exporter": "python",
   "pygments_lexer": "ipython3",
   "version": "3.8.8"
  }
 },
 "nbformat": 4,
 "nbformat_minor": 5
}
