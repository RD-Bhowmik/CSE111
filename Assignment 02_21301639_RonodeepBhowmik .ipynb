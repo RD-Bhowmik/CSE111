{
 "cells": [
  {
   "cell_type": "code",
   "execution_count": 6,
   "id": "837bf6bc",
   "metadata": {},
   "outputs": [
    {
     "name": "stdout",
     "output_type": "stream",
     "text": [
      "0.5\n"
     ]
    }
   ],
   "source": [
    "#Problem 01\n",
    "def fractional_part(numer,denom):\n",
    "    if denom>0:\n",
    "        return(numer%denom)/denom\n",
    "    return 0\n",
    "print(fractional_part(int(input()),int(input())))"
   ]
  },
  {
   "cell_type": "code",
   "execution_count": 8,
   "id": "26858572",
   "metadata": {},
   "outputs": [
    {
     "name": "stdout",
     "output_type": "stream",
     "text": [
      "Enter the Height: 158\n",
      "Enter the Weight: 58\n",
      "Score is 23.2. You are Normal\n"
     ]
    }
   ],
   "source": [
    "#Problem 02\n",
    "def BMI(height, weight):\n",
    "                                                            #Calcuate bmi\n",
    "    return round((weight/(height * height)) * 10000, 1)\n",
    "height = float(input(\"Enter the Height: \"))\n",
    "weight = float(input(\"Enter the Weight: \"))\n",
    "                                                #Call BMI to get bmi value\n",
    "calculate = BMI(height, weight)\n",
    "if calculate < 18.5:\n",
    "    print(f\"Score is {calculate}. You are Underweight\")\n",
    "elif calculate >= 18.5 and calculate<= 24.9:\n",
    "    print(f\"Score is {calculate}. You are Normal\")\n",
    "elif calculate>=25 and calculate<=30:\n",
    "    print(f\"Score is {calculate}. You are Overweight\")\n",
    "else:\n",
    "    print(f\"Score is {calculate}. You are Obese\")"
   ]
  },
  {
   "cell_type": "code",
   "execution_count": 8,
   "id": "95e143c3",
   "metadata": {},
   "outputs": [
    {
     "name": "stdout",
     "output_type": "stream",
     "text": [
      "20\n"
     ]
    }
   ],
   "source": [
    "#Problem 03\n",
    "def nums(mini,maxx,div):\n",
    "    divisor = 0\n",
    "    for i in range(mini,maxx):\n",
    "        if i % div == 0:\n",
    "            divisor += i\n",
    "    return divisor\n",
    "print(nums(0,10,2))\n"
   ]
  },
  {
   "cell_type": "code",
   "execution_count": 2,
   "id": "145c2f32",
   "metadata": {},
   "outputs": [
    {
     "name": "stdout",
     "output_type": "stream",
     "text": [
      "243.6\n"
     ]
    }
   ],
   "source": [
    "#Problem 04\n",
    "def burger(burger, place='Mohakhali'):\n",
    "    costing = 0\n",
    "    if burger == 'BBQ Chicken Cheese Burger':\n",
    "        costing = 250\n",
    "    elif burger == 'Beef Burger':\n",
    "        costing = 170\n",
    "    elif burger == 'Naga Drums':\n",
    "        costing = 200\n",
    "    costing *= 1.08\n",
    "    if place == 'Mohakhali':\n",
    "        costing += 40\n",
    "    else:\n",
    "        costing += 60\n",
    "    return round(costing, 1)\n",
    "print(burger('Beef Burger',\"Dhanmondi\"))\n"
   ]
  },
  {
   "cell_type": "code",
   "execution_count": 26,
   "id": "9f0a31cd",
   "metadata": {},
   "outputs": [
    {
     "name": "stdout",
     "output_type": "stream",
     "text": [
      "enter the email: alice@kaaj.com \n",
      "Changed:  alice@sheba.xyz\n"
     ]
    }
   ],
   "source": [
    "#Problem 05\n",
    "def replace_domain(email, new_domain, old_domain):\n",
    "    list_1 = email.split('@')\n",
    "    if(list_1[1] == new_domain):\n",
    "        print('Unchanged: ', email)\n",
    "    else:\n",
    "        new_email = list_1[0] + '@' + new_domain\n",
    "        print('Changed: ', new_email)\n",
    "email = input(\"enter the email: \")\n",
    "new_domain = 'sheba.xyz'\n",
    "old_domain = 'kaaj.com'\n",
    "replace_domain(email, new_domain, old_domain)"
   ]
  },
  {
   "cell_type": "code",
   "execution_count": 12,
   "id": "72e1c0d5",
   "metadata": {},
   "outputs": [
    {
     "name": "stdout",
     "output_type": "stream",
     "text": [
      "Enter the string: xyz\n",
      "No vowels in the name\n"
     ]
    }
   ],
   "source": [
    "#Problem 06\n",
    "def num_of_vowels():\n",
    "    string = input(\"Enter the string: \")\n",
    "    vowels = []\n",
    "    for i in string:\n",
    "        if i in \"aeiouAEIOU\":\n",
    "            vowels.append(i)\n",
    "    if len(vowels) == 0:\n",
    "        print(\"No vowels in the name\")\n",
    "    else:\n",
    "        print(\"Vowels: \" + \", \".join(vowels) + \". \" + \"Total number of vowels:\", len(vowels))\n",
    "num_of_vowels()"
   ]
  },
  {
   "cell_type": "code",
   "execution_count": 2,
   "id": "ffd7d7ab",
   "metadata": {},
   "outputs": [
    {
     "name": "stdout",
     "output_type": "stream",
     "text": [
      "Enter the string: nurse run \n",
      "Not a palindrome\n"
     ]
    }
   ],
   "source": [
    "#Problem 07\n",
    "def word_checker(string):\n",
    "    string = string.replace(\" \",\"\")\n",
    "    if string == string[::-1]:\n",
    "        return \"Palindrome\"\n",
    "    return \"Not a palindrome\"\n",
    "string = input(\"Enter the string: \")\n",
    "print(word_checker(string))"
   ]
  },
  {
   "cell_type": "code",
   "execution_count": 3,
   "id": "ee29b6b6",
   "metadata": {},
   "outputs": [
    {
     "name": "stdout",
     "output_type": "stream",
     "text": [
      "Enter number of days: 4320\n",
      "11 years,10 months and 5 days\n"
     ]
    }
   ],
   "source": [
    "#Problem 08\n",
    "def counter(days):\n",
    "    years=days//365         \n",
    "    remaining_days=days-(years*365)\n",
    "    print(years,\"years,\",end=\"\")\n",
    "    if remaining_days>=30:\n",
    "        months=(remaining_days)//30\n",
    "        remaining_days=remaining_days-(months*30)\n",
    "        print(months,\"months \",end=\"\")\n",
    "    if(remaining_days>0):\n",
    "        days=remaining_days\n",
    "        print(\"and\",days,\"days\")\n",
    "days=int(input(\"Enter number of days: \"))\n",
    "counter(days)"
   ]
  },
  {
   "cell_type": "code",
   "execution_count": 4,
   "id": "e01c3e4a",
   "metadata": {},
   "outputs": [
    {
     "name": "stdout",
     "output_type": "stream",
     "text": [
      "Enter the string: my favourite animal is a dog. a dog has sharp teeth so that it can eat flesh very easily.  do you know my pet dog’s name? i love my pet very much.\n",
      "My favourite animal is a dog. A dog has sharp teeth so that it can eat flesh very easily. Do you know my pet dog’s name? I love my pet very much. \n"
     ]
    }
   ],
   "source": [
    "#Problem 09 \n",
    "def capitalizing(words) :\n",
    "    words[0] = words[0].capitalize() \n",
    "    for i in range(1, len(words)):\n",
    "        if words[i - 1][-1] == '.':\n",
    "            words[i] = words[i].capitalize()\n",
    "        if words[i] == \"i\":\n",
    "            words[i] = words[i].capitalize()\n",
    "    return words\n",
    "string = input(\"Enter the string: \")\n",
    "words = string.split()\n",
    "capit_words = capitalizing(words)\n",
    "for i in range(0, len(capit_words)):\n",
    "    print(capit_words[i], end = \" \")\n",
    "print()"
   ]
  },
  {
   "cell_type": "code",
   "execution_count": null,
   "id": "1a9bae02",
   "metadata": {},
   "outputs": [],
   "source": []
  }
 ],
 "metadata": {
  "kernelspec": {
   "display_name": "Python 3",
   "language": "python",
   "name": "python3"
  },
  "language_info": {
   "codemirror_mode": {
    "name": "ipython",
    "version": 3
   },
   "file_extension": ".py",
   "mimetype": "text/x-python",
   "name": "python",
   "nbconvert_exporter": "python",
   "pygments_lexer": "ipython3",
   "version": "3.8.8"
  }
 },
 "nbformat": 4,
 "nbformat_minor": 5
}
